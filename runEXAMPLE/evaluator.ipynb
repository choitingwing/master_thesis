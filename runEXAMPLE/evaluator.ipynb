{
 "cells": [
  {
   "cell_type": "code",
   "execution_count": 9,
   "metadata": {},
   "outputs": [
    {
     "name": "stdout",
     "output_type": "stream",
     "text": [
      "GPU 2  will be allocated\n"
     ]
    }
   ],
   "source": [
    "# GPU allocation\n",
    "from gpuutils import GpuUtils\n",
    "GpuUtils.allocate(gpu_count=1, framework='keras')\n",
    "\n",
    "import tensorflow as tf\n",
    "physical_devices = tf.config.list_physical_devices('GPU')\n",
    "for device in physical_devices:\n",
    "    tf.config.experimental.set_memory_growth(device, True)\n",
    "# --------------\n",
    "\n",
    "# Imports\n",
    "import numpy as np\n",
    "from radiotools import plthelpers as php\n",
    "from matplotlib import pyplot as plt\n",
    "from tensorflow import keras\n",
    "import os\n",
    "import time\n",
    "from radiotools import helper as hp\n",
    "from NuRadioReco.utilities import units\n",
    "import pickle\n",
    "import argparse\n",
    "from termcolor import colored\n",
    "from toolbox import load_file, models_dir\n",
    "from constants import datapath, data_filename, label_filename, test_file_ids\n",
    "# -------\n",
    "\n",
    "# # Parse arguments\n",
    "# parser = argparse.ArgumentParser(description='Evaluate energy resolution')\n",
    "# parser.add_argument(\"run_id\", type=str ,help=\"the id of the run, eg '3.2' for run3.2\")\n",
    "\n",
    "# args = parser.parse_args()\n",
    "# run_id = args.run_id"
   ]
  },
  {
   "cell_type": "code",
   "execution_count": 10,
   "metadata": {},
   "outputs": [
    {
     "name": "stdout",
     "output_type": "stream",
     "text": [
      "\u001b[33mEvaluating energy resolution for runEXAMPLE.1...\u001b[0m\n",
      "../common/models/runEXAMPLE.1\n"
     ]
    }
   ],
   "source": [
    "run_id = \"EXAMPLE.1\"\n",
    "# Save the run name and filename\n",
    "run_name = f\"run{run_id}\"\n",
    "filename = f\"model_history_log_{run_name}.csv\"\n",
    "\n",
    "# Models folder\n",
    "saved_model_dir = models_dir(run_name)\n",
    "\n",
    "print(colored(f\"Evaluating energy resolution for {run_name}...\", \"yellow\"))\n",
    "print(saved_model_dir)"
   ]
  },
  {
   "cell_type": "code",
   "execution_count": 11,
   "metadata": {},
   "outputs": [
    {
     "name": "stdout",
     "output_type": "stream",
     "text": [
      "../common/models/runEXAMPLE.1\n"
     ]
    }
   ],
   "source": [
    "# new loss function\n",
    "def obj(true_e, y_pred):\n",
    "    split = Lambda( lambda x: tf.split(x, num_or_size_splits=2, axis=1))(y_pred)\n",
    "    pred_e = split[0]\n",
    "    pred_log_var= split[1]\n",
    "    return K.log(pred_log_var)+ (pred_e-true_e)**2/(pred_log_var + 10**(-6))\n",
    "\n",
    "print(saved_model_dir)"
   ]
  },
  {
   "cell_type": "code",
   "execution_count": 12,
   "metadata": {},
   "outputs": [],
   "source": [
    "# Load the model\n",
    "model = keras.models.load_model(f'{saved_model_dir}/model.{run_name}.h5', \n",
    "                                custom_objects = {'obj': obj})"
   ]
  },
  {
   "cell_type": "code",
   "execution_count": 13,
   "metadata": {},
   "outputs": [],
   "source": [
    "# Load test file data and make predictions\n",
    "    # Load first file\n",
    "data, shower_energy_log10 = load_file(test_file_ids[0])"
   ]
  },
  {
   "cell_type": "code",
   "execution_count": 14,
   "metadata": {},
   "outputs": [
    {
     "name": "stdout",
     "output_type": "stream",
     "text": [
      "38 (99997, 5, 512, 1) (99997,)\n"
     ]
    }
   ],
   "source": [
    "print(test_file_ids[0], data.shape, shower_energy_log10.shape)"
   ]
  },
  {
   "cell_type": "code",
   "execution_count": 15,
   "metadata": {},
   "outputs": [],
   "source": [
    "    # Then load rest of files\n",
    "if len(test_file_ids) > 1:\n",
    " for test_file_id in test_file_ids:\n",
    "        if test_file_id != test_file_ids[0]:\n",
    "            data_tmp, shower_energy_log10_tmp = load_file(test_file_id)\n",
    "\n",
    "            data = np.concatenate((data, data_tmp))\n",
    "            shower_energy_log10 = np.concatenate((shower_energy_log10, shower_energy_log10_tmp))\n",
    "            "
   ]
  },
  {
   "cell_type": "code",
   "execution_count": 16,
   "metadata": {},
   "outputs": [],
   "source": [
    "shower_predict = model.predict(data)"
   ]
  },
  {
   "cell_type": "code",
   "execution_count": 17,
   "metadata": {},
   "outputs": [],
   "source": [
    "arrayenergy = np.asarray(shower_predict)\n",
    "x_list=[]\n",
    "y_list=[]\n",
    "for x,y in arrayenergy:\n",
    "    x_list.append(x)\n",
    "    y_list.append(y)"
   ]
  },
  {
   "cell_type": "code",
   "execution_count": 18,
   "metadata": {},
   "outputs": [
    {
     "name": "stdout",
     "output_type": "stream",
     "text": [
      "\u001b[1m\u001b[32mDone evaluating energy resolution for runEXAMPLE.1!\u001b[0m\n",
      "\n"
     ]
    }
   ],
   "source": [
    "# Save predicted angles\n",
    "shower_energy_log10_predict = np.array(x_list)\n",
    "shower_energy_log10_sigma_predict = np.sqrt(np.array(y_list))\n",
    "with open(f'{saved_model_dir}/model.{run_name}.h5_predicted.pkl', \"bw\") as fout:\n",
    "    pickle.dump([shower_energy_log10_predict, shower_energy_log10, shower_energy_log10_sigma_predict], fout, protocol=4)\n",
    "\n",
    "print(colored(f\"Done evaluating energy resolution for {run_name}!\", \"green\", attrs=[\"bold\"]))\n",
    "print(\"\")"
   ]
  },
  {
   "cell_type": "code",
   "execution_count": 19,
   "metadata": {},
   "outputs": [],
   "source": []
  }
 ],
 "metadata": {
  "kernelspec": {
   "display_name": "Python 3",
   "language": "python",
   "name": "python3"
  },
  "language_info": {
   "codemirror_mode": {
    "name": "ipython",
    "version": 3
   },
   "file_extension": ".py",
   "mimetype": "text/x-python",
   "name": "python",
   "nbconvert_exporter": "python",
   "pygments_lexer": "ipython3",
   "version": "3.8.5"
  }
 },
 "nbformat": 4,
 "nbformat_minor": 4
}
