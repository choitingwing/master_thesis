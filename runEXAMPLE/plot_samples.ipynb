{
 "cells": [
  {
   "cell_type": "code",
   "execution_count": null,
   "id": "5dbfa7d4",
   "metadata": {},
   "outputs": [],
   "source": [
    "# Imports\n",
    "import numpy as np\n",
    "from radiotools import plthelpers as php\n",
    "from matplotlib import pyplot as plt\n",
    "\n",
    "import os\n",
    "import time\n",
    "from radiotools import helper as hp\n",
    "from NuRadioReco.utilities import units\n",
    "import pickle\n",
    "import argparse\n",
    "from termcolor import colored\n",
    "from toolbox import load_file, models_dir, calculate_percentage_interval\n",
    "from constants import datapath, data_filename, label_filename, test_file_ids, plots_dir\n",
    "# -------"
   ]
  },
  {
   "cell_type": "code",
   "execution_count": null,
   "id": "7ab1146e",
   "metadata": {},
   "outputs": [],
   "source": [
    "#GPU\n",
    "import torch\n",
    "device = torch.device(\"cuda\" if torch.cuda.is_available() else \"cpu\")\n",
    "print(\"Using\",device,\". GPU # is\",torch.cuda.current_device())\n",
    "\n",
    "# # Parse arguments\n",
    "# parser = argparse.ArgumentParser(description='Evaluate energy resolution')\n",
    "# parser.add_argument(\"run_id\", type=str ,help=\"the id of the run, eg '3.2' for run3.2\")\n",
    "\n",
    "# args = parser.parse_args()\n",
    "# run_id = args.run_id\n",
    "\n",
    "run_id = \"Model.8\"\n",
    "# Save the run name and filename\n",
    "run_name = f\"run{run_id}\"\n",
    "# filename = f\"model_history_log_{run_name}.csv\"\n",
    "\n",
    "# Models folder\n",
    "saved_model_dir = models_dir(run_name)\n",
    "print(saved_model_dir)\n",
    "print(colored(f\"plotting samples for {run_name}...\", \"yellow\"))\n",
    "\n",
    "# Load the model\n",
    "from generator import E_Model\n",
    "import pytorch_lightning as pl\n",
    "import jammy_flows\n",
    "\n",
    "# mymodel = E_Model().to(device)\n",
    "mymodel = E_Model()\n",
    "save_model_path=os.path.join(saved_model_dir,  f\"{run_name}.pt\")\n",
    "mymodel.load_state_dict(torch.load(save_model_path))\n",
    "mymodel.eval()\n",
    "mymodel.double()\n",
    "\n",
    "# Load test file data and make predictions\n",
    "# way 1\n",
    "from generator import Prepare_Dataset\n",
    "from tqdm import tqdm\n",
    "from torch.utils.data import DataLoader\n",
    "from constants import test_data_points, sample_numbers\n",
    "\n",
    "list_of_file_ids_test_small = np.random.choice(test_file_ids, size=1, replace=False)\n",
    "test = Prepare_Dataset(file_ids=list_of_file_ids_test_small, points = 9)\n",
    "print(\"Picked test set ids:\",list_of_file_ids_test_small)\n",
    "print(\"Length of test dataset: \", len(test))\n",
    "\n",
    "test_loader = DataLoader(test, batch_size=1, shuffle=False)\n"
   ]
  },
  {
   "cell_type": "code",
   "execution_count": null,
   "id": "600eac8b",
   "metadata": {},
   "outputs": [],
   "source": [
    "plots_dir = f\"{plots_dir}/{run_id}/samples\"\n",
    "if not os.path.exists(plots_dir):\n",
    "    os.makedirs(plots_dir)"
   ]
  },
  {
   "cell_type": "code",
   "execution_count": null,
   "id": "c67e7d20",
   "metadata": {},
   "outputs": [],
   "source": [
    "from scipy.optimize import curve_fit\n",
    "def gauss_fit_plot(sample_data, energysmallbin=''):   \n",
    "    (count, bins) = np.histogram(sample_data, bins=200)#np.linspace(-40, 40, 400)\n",
    "                                 #bins=np.linspace(np.min(sigma_ratio_data)-0.1, np.max(sigma_ratio_data)+0.1, 100))\n",
    "\n",
    "    bins_middle = (bins[:-1] + bins[1:])/2\n",
    "    p0 = [200, 18., 0.5]\n",
    "    def gauss(x, *p):\n",
    "        A, mu, sigma = p\n",
    "        return A*(2 * np.pi * sigma)**-0.5 * np.exp(-0.5 * (x - mu) ** 2 * sigma ** -2)\n",
    "    coeff, var_matrix = curve_fit(gauss, bins_middle, count, p0=p0, maxfev = 5000)\n",
    "    hist_fit = gauss(bins_middle, *coeff)\n",
    "\n",
    "    fig, ax = php.get_histogram(sample_data, bins=200, xlabel=\"log(E)\")\n",
    "                                #bins=np.linspace(np.min(sigma_ratio_data)-0.1, np.max(sigma_ratio_data)+0.1, 100),\n",
    "\n",
    "    ax.plot(bins_middle, hist_fit)\n",
    "    ax.legend([f\"Gaussian fit with \\n$\\mu$ = {coeff[1]:.2f}\\n$\\sigma$ = {coeff[2]:.2f}\"], loc='upper right')\n",
    "    plt.title(f\"Predicted sample distribution for {run_name} with\\n68 % interval of E at {energy_68:.2f}, ture E = {y.item():.2f}\")\n",
    "    fig.savefig(f\"{plots_dir}/Predicted_sample_trueE_{y.item():.2f}_{run_name}_.png\")"
   ]
  },
  {
   "cell_type": "code",
   "execution_count": null,
   "id": "93208ead",
   "metadata": {},
   "outputs": [],
   "source": [
    "with torch.no_grad():\n",
    "    # Iterate through test set minibatchs \n",
    "    for x, y in tqdm(test_loader):\n",
    "        target_sample_list = []\n",
    "        conv_out = mymodel.forward(x)\n",
    "        target_sample, base_sample, target_log_pdf, base_log_pdf = mymodel.pdf.sample(samplesize=sample_numbers, conditional_input=conv_out.repeat(sample_numbers,1))\n",
    "        \n",
    "        sample_dist = np.squeeze(target_sample.numpy())\n",
    "        energy_68 = calculate_percentage_interval(sample_dist, 0.68)\n",
    "        gauss_fit_plot(sample_dist)\n",
    "        "
   ]
  },
  {
   "cell_type": "code",
   "execution_count": null,
   "id": "c9a1a0ae",
   "metadata": {},
   "outputs": [],
   "source": []
  }
 ],
 "metadata": {
  "kernelspec": {
   "display_name": "Python 3 (ipykernel)",
   "language": "python",
   "name": "python3"
  },
  "language_info": {
   "codemirror_mode": {
    "name": "ipython",
    "version": 3
   },
   "file_extension": ".py",
   "mimetype": "text/x-python",
   "name": "python",
   "nbconvert_exporter": "python",
   "pygments_lexer": "ipython3",
   "version": "3.9.12"
  }
 },
 "nbformat": 4,
 "nbformat_minor": 5
}
